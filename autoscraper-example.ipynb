{
 "cells": [
  {
   "cell_type": "code",
   "execution_count": 1,
   "metadata": {},
   "outputs": [
    {
     "name": "stdout",
     "output_type": "stream",
     "text": [
      "How do I merge two dictionaries in a single expression in Python (taking union of dictionaries)?\n",
      "How to call an external command?\n",
      "What are metaclasses in Python?\n",
      "Does Python have a ternary conditional operator?\n",
      "How do you remove duplicates from a list whilst preserving order?\n",
      "Convert bytes to a string\n",
      "How to get line count of a large file cheaply in Python?\n",
      "Does Python have a string 'contains' substring method?\n",
      "Why is “1000000000000000 in range(1000000000000001)” so fast in Python 3?\n"
     ]
    }
   ],
   "source": [
    "from autoscraper import AutoScraper\n",
    "url = \"https://stackoverflow.com/questions/2081586/web-scrapping-with-python\"\n",
    "wanted_list = [ \"How to call an external command?\" ]\n",
    "scraper = AutoScraper()\n",
    "result = scraper.build(url, wanted_list)\n",
    "print(*result, sep=\"\\n\")"
   ]
  }
 ],
 "metadata": {
  "kernelspec": {
   "display_name": "Python 3",
   "language": "python",
   "name": "python3"
  },
  "language_info": {
   "codemirror_mode": {
    "name": "ipython",
    "version": 3
   },
   "file_extension": ".py",
   "mimetype": "text/x-python",
   "name": "python",
   "nbconvert_exporter": "python",
   "pygments_lexer": "ipython3",
   "version": "3.8.5"
  }
 },
 "nbformat": 4,
 "nbformat_minor": 4
}
